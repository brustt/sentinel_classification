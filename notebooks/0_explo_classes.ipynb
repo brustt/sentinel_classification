{
 "cells": [
  {
   "cell_type": "code",
   "execution_count": 1,
   "id": "dd32f2a3-e530-4eaa-aad7-1293c3959b91",
   "metadata": {},
   "outputs": [],
   "source": [
    "import geopandas as gpd \n",
    "import numpy as np \n",
    "import os\n",
    "import matplotlib.pyplot as plt "
   ]
  },
  {
   "cell_type": "code",
   "execution_count": 2,
   "id": "17e12d40-3776-46bf-894d-69fba3128d0b",
   "metadata": {},
   "outputs": [],
   "source": [
    "labels_path = \"/home/rustt/Documents/Projects/S1_S2_classification/sentinel_classification/data/external/polygons\"\n",
    "project_dir = \"/home/rustt/Documents/Projects/S1_S2_classification\"\n",
    "out_dir = os.path.join(project_dir, \"sentinel_classification/data/processed\")"
   ]
  },
  {
   "cell_type": "code",
   "execution_count": 3,
   "id": "c411a040-77ab-4682-b90b-dc26c90942bc",
   "metadata": {},
   "outputs": [],
   "source": [
    "poly = gpd.read_file(os.path.join(labels_path, \"ROI_Classif.shp\"))"
   ]
  },
  {
   "cell_type": "code",
   "execution_count": 4,
   "id": "c0932919-4d51-4971-89ad-76e454aac471",
   "metadata": {},
   "outputs": [],
   "source": [
    "mask = gpd.read_file(os.path.join(labels_path, \"mask_classif.shp\"))\n",
    "mask2 = gpd.read_file(os.path.join(labels_path, \"mask_classif22N.shp\"))"
   ]
  },
  {
   "cell_type": "code",
   "execution_count": 5,
   "id": "a67c9869-fbe8-4c9f-ab8f-59827b747df4",
   "metadata": {},
   "outputs": [
    {
     "data": {
      "text/plain": [
       "<Axes: >"
      ]
     },
     "execution_count": 5,
     "metadata": {},
     "output_type": "execute_result"
    },
    {
     "data": {
      "image/png": "[encoded data removed]",
      "text/plain": [
       "<Figure size 640x480 with 1 Axes>"
      ]
     },
     "metadata": {},
     "output_type": "display_data"
    }
   ],
   "source": [
    "mask2.plot()"
   ]
  },
  {
   "cell_type": "markdown",
   "id": "dcf0cb0d-bff4-46bc-ba7e-728a96b2fac8",
   "metadata": {},
   "source": [
    "Apparemment un mak sur le continent couvert."
   ]
  },
  {
   "cell_type": "code",
   "execution_count": 6,
   "id": "f54b2c70-8928-42ff-bacd-f6f3481adc67",
   "metadata": {},
   "outputs": [
    {
     "data": {
      "text/plain": [
       "12    6\n",
       "4     5\n",
       "3     5\n",
       "5     5\n",
       "1     4\n",
       "2     4\n",
       "6     4\n",
       "11    3\n",
       "7     2\n",
       "Name: classid, dtype: int64"
      ]
     },
     "execution_count": 6,
     "metadata": {},
     "output_type": "execute_result"
    }
   ],
   "source": [
    "poly.classid.value_counts()"
   ]
  },
  {
   "cell_type": "code",
   "execution_count": 7,
   "id": "d822b14d-f80f-4bcd-aa23-382aa7ef6d83",
   "metadata": {},
   "outputs": [
    {
     "data": {
      "text/html": [
       "<div>\n",
       "<style scoped>\n",
       "    .dataframe tbody tr th:only-of-type {\n",
       "        vertical-align: middle;\n",
       "    }\n",
       "\n",
       "    .dataframe tbody tr th {\n",
       "        vertical-align: top;\n",
       "    }\n",
       "\n",
       "    .dataframe thead th {\n",
       "        text-align: right;\n",
       "    }\n",
       "</style>\n",
       "<table border=\"1\" class=\"dataframe\">\n",
       "  <thead>\n",
       "    <tr style=\"text-align: right;\">\n",
       "      <th></th>\n",
       "      <th>classid</th>\n",
       "      <th>geometry</th>\n",
       "    </tr>\n",
       "  </thead>\n",
       "  <tbody>\n",
       "    <tr>\n",
       "      <th>0</th>\n",
       "      <td>1</td>\n",
       "      <td>POLYGON ((324939.882 565077.219, 325442.563 56...</td>\n",
       "    </tr>\n",
       "    <tr>\n",
       "      <th>1</th>\n",
       "      <td>1</td>\n",
       "      <td>POLYGON ((328817.707 562348.379, 329727.321 56...</td>\n",
       "    </tr>\n",
       "    <tr>\n",
       "      <th>2</th>\n",
       "      <td>1</td>\n",
       "      <td>POLYGON ((338201.089 554640.602, 338847.393 55...</td>\n",
       "    </tr>\n",
       "    <tr>\n",
       "      <th>3</th>\n",
       "      <td>11</td>\n",
       "      <td>POLYGON ((340554.368 536493.089, 340818.682 53...</td>\n",
       "    </tr>\n",
       "    <tr>\n",
       "      <th>4</th>\n",
       "      <td>11</td>\n",
       "      <td>POLYGON ((338773.121 537125.144, 339106.386 53...</td>\n",
       "    </tr>\n",
       "  </tbody>\n",
       "</table>\n",
       "</div>"
      ],
      "text/plain": [
       "   classid                                           geometry\n",
       "0        1  POLYGON ((324939.882 565077.219, 325442.563 56...\n",
       "1        1  POLYGON ((328817.707 562348.379, 329727.321 56...\n",
       "2        1  POLYGON ((338201.089 554640.602, 338847.393 55...\n",
       "3       11  POLYGON ((340554.368 536493.089, 340818.682 53...\n",
       "4       11  POLYGON ((338773.121 537125.144, 339106.386 53..."
      ]
     },
     "execution_count": 7,
     "metadata": {},
     "output_type": "execute_result"
    }
   ],
   "source": [
    "poly.head()"
   ]
  },
  {
   "cell_type": "code",
   "execution_count": 61,
   "id": "47e56b35-6b41-4a8f-88f0-0c8ad3cc1094",
   "metadata": {},
   "outputs": [],
   "source": [
    "labels = {\n",
    "    1:\"1 - coastal mangrove\",\n",
    "    2:\"2 - forest\",\n",
    "    3:\"3 - swamps\",\n",
    "    4:\"4 - herbaceous savana\",\n",
    "    5:\"5 - bare soil\",\n",
    "    6:\"6 - water\",\n",
    "    7:\"7 - building area\",\n",
    "    11:\"11 - low mangrove\", \n",
    "    12:\"12 - high mangrove\",\n",
    "    13: \"13 - clouds\"\n",
    "}"
   ]
  },
  {
   "cell_type": "code",
   "execution_count": 24,
   "id": "6369b3a0-86c6-4a55-8144-ad3837b249b8",
   "metadata": {},
   "outputs": [],
   "source": [
    "poly[\"classlabel\"] = poly.classid.map(labels)"
   ]
  },
  {
   "cell_type": "code",
   "execution_count": 25,
   "id": "bec6963b-e8ff-4f47-a2ba-17f4792b5f89",
   "metadata": {},
   "outputs": [
    {
     "data": {
      "text/plain": [
       "classid       0\n",
       "geometry      0\n",
       "classlabel    0\n",
       "dtype: int64"
      ]
     },
     "execution_count": 25,
     "metadata": {},
     "output_type": "execute_result"
    }
   ],
   "source": [
    "poly.isna().sum()"
   ]
  },
  {
   "cell_type": "code",
   "execution_count": 26,
   "id": "d8e9f157-0b1d-48f8-813a-cd108fbdb843",
   "metadata": {},
   "outputs": [
    {
     "data": {
      "text/plain": [
       "9"
      ]
     },
     "execution_count": 26,
     "metadata": {},
     "output_type": "execute_result"
    }
   ],
   "source": [
    "poly.classlabel.nunique()"
   ]
  },
  {
   "cell_type": "code",
   "execution_count": 28,
   "id": "a0b40daa-adcf-44ab-a6f9-5c2b6b87cdf3",
   "metadata": {},
   "outputs": [],
   "source": [
    "poly.to_file(os.path.join(labels_path, \"ROI_Classif_2.shp\"))"
   ]
  },
  {
   "cell_type": "code",
   "execution_count": null,
   "id": "903c013f-19a2-4693-827d-ba94384aa277",
   "metadata": {},
   "outputs": [],
   "source": []
  },
  {
   "cell_type": "code",
   "execution_count": 35,
   "id": "0d46b3d5-df14-4086-8a55-78bf95f556c1",
   "metadata": {},
   "outputs": [
    {
     "data": {
      "text/plain": [
       "Text(0.5, 1.0, 'distribution surfaces des classes labellisées')"
      ]
     },
     "execution_count": 35,
     "metadata": {},
     "output_type": "execute_result"
    },
    {
     "data": {
      "image/png": "[encoded data removed]",
      "text/plain": [
       "<Figure size 640x480 with 1 Axes>"
      ]
     },
     "metadata": {},
     "output_type": "display_data"
    }
   ],
   "source": [
    "poly.groupby(\"classlabel\").apply(lambda x: x.geometry.area.sum()).plot(kind=\"bar\")\n",
    "plt.title(\"distribution surfaces des classes labellisées\")"
   ]
  },
  {
   "cell_type": "markdown",
   "id": "814a677b-faca-4c76-a48a-f9876f13d6cf",
   "metadata": {},
   "source": [
    "=> transformer en nombre de pixels"
   ]
  },
  {
   "cell_type": "markdown",
   "id": "3217d01b-1261-4a2d-8d13-a307bd7804cc",
   "metadata": {},
   "source": [
    "#### Labels corrected"
   ]
  },
  {
   "cell_type": "code",
   "execution_count": 88,
   "id": "9f1e27ee-f4b9-4e83-a5c6-027a3b3f6044",
   "metadata": {},
   "outputs": [],
   "source": [
    "labels_path = \"/home/rustt/Documents/Projects/S1_S2_classification/sentinel_classification/data/processed/ROI_Classif_corrected.shp\""
   ]
  },
  {
   "cell_type": "code",
   "execution_count": 89,
   "id": "3aa90aa4-c26b-47a6-8435-4e6497133fa6",
   "metadata": {},
   "outputs": [],
   "source": [
    "poly = gpd.read_file(labels_path)"
   ]
  },
  {
   "cell_type": "code",
   "execution_count": 90,
   "id": "95c783ff-1dcc-47b4-8c95-0b0babc00c62",
   "metadata": {},
   "outputs": [
    {
     "data": {
      "text/plain": [
       "(63, 3)"
      ]
     },
     "execution_count": 90,
     "metadata": {},
     "output_type": "execute_result"
    }
   ],
   "source": [
    "poly.shape"
   ]
  },
  {
   "cell_type": "code",
   "execution_count": 91,
   "id": "0d8eb0e0-8498-4f6c-81ff-d4c405476526",
   "metadata": {},
   "outputs": [
    {
     "data": {
      "text/plain": [
       "<Projected CRS: EPSG:32622>\n",
       "Name: WGS 84 / UTM zone 22N\n",
       "Axis Info [cartesian]:\n",
       "- E[east]: Easting (metre)\n",
       "- N[north]: Northing (metre)\n",
       "Area of Use:\n",
       "- name: Between 54°W and 48°W, northern hemisphere between equator and 84°N, onshore and offshore. Brazil. Canada - Newfoundland. French Guiana. Greenland.\n",
       "- bounds: (-54.0, 0.0, -48.0, 84.0)\n",
       "Coordinate Operation:\n",
       "- name: UTM zone 22N\n",
       "- method: Transverse Mercator\n",
       "Datum: World Geodetic System 1984 ensemble\n",
       "- Ellipsoid: WGS 84\n",
       "- Prime Meridian: Greenwich"
      ]
     },
     "execution_count": 91,
     "metadata": {},
     "output_type": "execute_result"
    }
   ],
   "source": [
    "poly.crs"
   ]
  },
  {
   "cell_type": "code",
   "execution_count": 92,
   "id": "47d861ae-7336-457b-badb-685bef6eca5d",
   "metadata": {},
   "outputs": [],
   "source": [
    "poly[\"classlabel\"] = poly.classid.map(labels)"
   ]
  },
  {
   "cell_type": "code",
   "execution_count": 93,
   "id": "53ba0dc2-bcf2-4177-b913-726cd51dbac3",
   "metadata": {},
   "outputs": [
    {
     "data": {
      "text/plain": [
       "Text(0.5, 1.0, 'distribution surfaces des classes labellisées')"
      ]
     },
     "execution_count": 93,
     "metadata": {},
     "output_type": "execute_result"
    },
    {
     "data": {
      "image/png": "[encoded data removed]",
      "text/plain": [
       "<Figure size 640x480 with 1 Axes>"
      ]
     },
     "metadata": {},
     "output_type": "display_data"
    }
   ],
   "source": [
    "poly.groupby(\"classlabel\").apply(lambda x: x.geometry.area.sum()).plot(kind=\"bar\", color=\"orange\")\n",
    "plt.title(\"distribution surfaces des classes labellisées\")"
   ]
  },
  {
   "cell_type": "code",
   "execution_count": 94,
   "id": "c4d195e6-e3f6-4a8f-b268-de6d88a7d160",
   "metadata": {},
   "outputs": [],
   "source": [
    "area_cls = poly.groupby(\"classlabel\").apply(lambda x: x.geometry.area.sum())"
   ]
  },
  {
   "cell_type": "markdown",
   "id": "76a3f174-0251-4b08-b639-5bdaa4c1b1e7",
   "metadata": {},
   "source": [
    "nombre de pixels (environ- faux via interpolation): "
   ]
  },
  {
   "cell_type": "code",
   "execution_count": 95,
   "id": "96c59cae-2ba5-4c74-9a27-3456f538cecc",
   "metadata": {},
   "outputs": [
    {
     "data": {
      "text/plain": [
       "classlabel\n",
       "1 - coastal mangrove      51531.927844\n",
       "11 - low mangrove         13103.498151\n",
       "12 - high mangrove        17213.341314\n",
       "13 - clouds              123412.387414\n",
       "2 - forest                47749.206521\n",
       "3 - swamps                14507.144004\n",
       "4 - herbaceous savana     20467.364443\n",
       "5 - bare soil             11259.020198\n",
       "6 - water                223235.233885\n",
       "7 - building area         17838.151276\n",
       "dtype: float64"
      ]
     },
     "execution_count": 95,
     "metadata": {},
     "output_type": "execute_result"
    }
   ],
   "source": [
    "area_cls / (10*10)"
   ]
  },
  {
   "cell_type": "code",
   "execution_count": 87,
   "id": "c41fb458-0f32-49ef-bd3d-323b0614cb4e",
   "metadata": {},
   "outputs": [],
   "source": [
    "poly.to_file(labels_path)"
   ]
  },
  {
   "cell_type": "code",
   "execution_count": 86,
   "id": "698fa7dc-7294-4ea7-947e-0c6d2d3927f6",
   "metadata": {},
   "outputs": [
    {
     "data": {
      "text/plain": [
       "'/home/rustt/Documents/Projects/S1_S2_classification/sentinel_classification/data/processed/ROI_Classif_corrected.shp'"
      ]
     },
     "execution_count": 86,
     "metadata": {},
     "output_type": "execute_result"
    }
   ],
   "source": [
    "labels_path"
   ]
  },
  {
   "cell_type": "markdown",
   "id": "28f9313a-affa-407d-b8de-63077f38721a",
   "metadata": {},
   "source": [
    "### VRT parsing"
   ]
  },
  {
   "cell_type": "markdown",
   "id": "b9de2333-8862-41c8-921a-a0ed7af04853",
   "metadata": {},
   "source": [
    "Permet de retrouver l'ordre des bandes dans le stack VRT créer sous QGIS (Sentinel4ALL)"
   ]
  },
  {
   "cell_type": "code",
   "execution_count": 4,
   "id": "1b73a4a1-3b04-4b89-b775-8bf647a4c0e7",
   "metadata": {},
   "outputs": [],
   "source": [
    "import xml"
   ]
  },
  {
   "cell_type": "code",
   "execution_count": 5,
   "id": "4f8ad0a9-7585-418a-a341-e42469b8ca9b",
   "metadata": {},
   "outputs": [],
   "source": [
    "output_path = '/home/rustt/Documents/Projects/S1_S2_classification/Data/Output/'\n",
    "vrt_stack_path = os.path.join(output_path, \"S2_10_20_stack_default.vrt\")"
   ]
  },
  {
   "cell_type": "code",
   "execution_count": 9,
   "id": "b9edd786-84d1-476f-93bb-0cab2e6b6965",
   "metadata": {},
   "outputs": [
    {
     "name": "stdout",
     "output_type": "stream",
     "text": [
      "Band 0 vrt : B12\n",
      "Band 1 vrt : B11\n",
      "Band 2 vrt : B8A\n",
      "Band 3 vrt : B08\n",
      "Band 4 vrt : B07\n",
      "Band 5 vrt : B06\n",
      "Band 6 vrt : B05\n",
      "Band 7 vrt : B04\n",
      "Band 8 vrt : B03\n",
      "Band 9 vrt : B02\n"
     ]
    }
   ],
   "source": [
    "import xml.etree.ElementTree as ET\n",
    "tree = ET.parse(vrt_stack_path)\n",
    "root = tree.getroot()\n",
    "band_mapping = {}\n",
    "for i,band in enumerate(root.iter(\"VRTRasterBand\")):\n",
    "    source = band.find(\"ComplexSource\")\n",
    "    file_name = source.find(\"SourceFilename\").text\n",
    "\n",
    "    # Colour interpretation is good\n",
    "    colour_interp = ET.SubElement(band, \"ColorInterp\")\n",
    "    colour = file_name.split(\"_\")[-1].split(\".\")[0]\n",
    "    colour_interp.text = colour\n",
    "    print(f\"Band {i} vrt : {colour}\")\n",
    "    band_mapping[i] = colour\n",
    "    \n",
    "    # Description appears more useful though\n",
    "    description = ET.SubElement(band, \"Description\")\n",
    "    description.text = colour"
   ]
  },
  {
   "cell_type": "code",
   "execution_count": 7,
   "id": "f2ada8d0-7885-4ae0-8443-f3bb88ed5c4c",
   "metadata": {},
   "outputs": [
    {
     "data": {
      "text/plain": [
       "<xml.etree.ElementTree.ElementTree at 0x7fb5a8cb45e0>"
      ]
     },
     "execution_count": 7,
     "metadata": {},
     "output_type": "execute_result"
    }
   ],
   "source": [
    "tree"
   ]
  },
  {
   "cell_type": "code",
   "execution_count": 10,
   "id": "0c0d0045-9041-4695-8d02-3d0e49f41de1",
   "metadata": {},
   "outputs": [
    {
     "data": {
      "text/plain": [
       "{0: 'B12',\n",
       " 1: 'B11',\n",
       " 2: 'B8A',\n",
       " 3: 'B08',\n",
       " 4: 'B07',\n",
       " 5: 'B06',\n",
       " 6: 'B05',\n",
       " 7: 'B04',\n",
       " 8: 'B03',\n",
       " 9: 'B02'}"
      ]
     },
     "execution_count": 10,
     "metadata": {},
     "output_type": "execute_result"
    }
   ],
   "source": [
    "band_mapping"
   ]
  },
  {
   "cell_type": "code",
   "execution_count": 11,
   "id": "eaeb1f57-e111-4aa9-9845-4bcac027a8be",
   "metadata": {},
   "outputs": [],
   "source": [
    "import pickle"
   ]
  },
  {
   "cell_type": "code",
   "execution_count": 14,
   "id": "66a3d1d8-4487-418f-9cdb-e96324cba156",
   "metadata": {},
   "outputs": [],
   "source": [
    "with open(os.path.join(out_dir, \"band_mapping_stack.pkl\"), \"wb\") as fp:\n",
    "    pickle.dump(band_mapping, fp)"
   ]
  },
  {
   "cell_type": "code",
   "execution_count": null,
   "id": "9940d44a-7068-4b9f-a6e7-33cac3790a0a",
   "metadata": {},
   "outputs": [],
   "source": [
    "data_dir = os.path.join(project_dir, \"sentinel_classification/data/processed\")\n"
   ]
  }
 ],
 "metadata": {
  "kernelspec": {
   "display_name": "Python 3 (ipykernel)",
   "language": "python",
   "name": "python3"
  },
  "language_info": {
   "codemirror_mode": {
    "name": "ipython",
    "version": 3
   },
   "file_extension": ".py",
   "mimetype": "text/x-python",
   "name": "python",
   "nbconvert_exporter": "python",
   "pygments_lexer": "ipython3",
   "version": "3.8.18"
  }
 },
 "nbformat": 4,
 "nbformat_minor": 5
}
