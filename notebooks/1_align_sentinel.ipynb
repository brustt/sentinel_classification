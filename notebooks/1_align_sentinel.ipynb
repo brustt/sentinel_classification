{
 "cells": [
  {
   "cell_type": "markdown",
   "id": "ad795e39-59db-4add-a974-a1ccc465c0d4",
   "metadata": {},
   "source": [
    "## Objectifs\n",
    "* align geo mapping and extent s1 / s2\n",
    "* convert s2 reflectance\n"
   ]
  },
  {
   "cell_type": "code",
   "execution_count": 36,
   "id": "d4da03a5-f878-41b5-8b8c-726124104ecd",
   "metadata": {},
   "outputs": [],
   "source": [
    "import geopandas as gpd \n",
    "import numpy as np \n",
    "import os\n",
    "import matplotlib.pyplot as plt \n",
    "import rasterio as rio \n",
    "import rioxarray as rioxr\n",
    "import glob \n",
    "import xarray as xr\n",
    "import folium\n",
    "from shapely.geometry import box"
   ]
  },
  {
   "cell_type": "code",
   "execution_count": 2,
   "id": "5947299f-19bd-4964-b33b-b33cd0db7862",
   "metadata": {},
   "outputs": [],
   "source": [
    "EPSG = 32622"
   ]
  },
  {
   "cell_type": "code",
   "execution_count": 3,
   "id": "44e691ee-b447-439d-ae97-3dd747246f85",
   "metadata": {},
   "outputs": [],
   "source": [
    "project_dir = \"/home/rustt/Documents/Projects/S1_S2_classification\"\n",
    "out_dir = os.path.join(project_dir, \"sentinel_classification/data/processed\")"
   ]
  },
  {
   "cell_type": "code",
   "execution_count": 4,
   "id": "51632806-a490-49c4-8453-7807d06b22d2",
   "metadata": {},
   "outputs": [],
   "source": [
    "labels_path = os.path.join(project_dir, \"sentinel_classification/data/processed/ROI_Classif_corrected.shp\")\n",
    "study_area = os.path.join(project_dir, \"sentinel_classification/data/raw/area/StudyArea.shp\")\n",
    "s1_dir_path = os.path.join(project_dir, \"Data/Output/Spk/p47\")\n",
    "s1_folder = os.path.join(s1_dir_path, \"S1B_IW_GRDH_1SDV_20180114T214240_20180114T214308_009173_0106C1_7F29\")\n",
    "s2_stack_pan_path = os.path.join(project_dir, \"Data/Output/S2_10_20_stack_pansharp.tif\")\n",
    "\n"
   ]
  },
  {
   "cell_type": "code",
   "execution_count": 5,
   "id": "5f7d2202-3120-4013-ba13-ca031eb331db",
   "metadata": {},
   "outputs": [],
   "source": [
    "area = gpd.read_file(study_area).to_crs(EPSG)\n",
    "\n",
    "labels = gpd.read_file(labels_path)\n",
    "\n",
    "s2_stack = rioxr.open_rasterio(s2_stack_pan_path)\n",
    "\n",
    "#s1_raster = rioxr.open_rasterio(os.path.join(s1_folder, os.listdir(s1_folder)[0]))"
   ]
  },
  {
   "cell_type": "markdown",
   "id": "a83fcd53-8583-495e-9758-ab039c071c9d",
   "metadata": {},
   "source": [
    "### Rasters specs"
   ]
  },
  {
   "cell_type": "code",
   "execution_count": 6,
   "id": "9a0fe5e1-8603-4e11-98f5-da907b58f8f8",
   "metadata": {},
   "outputs": [],
   "source": [
    "def print_raster(raster):\n",
    "    print(\n",
    "        f\"shape: {raster.rio.shape}\\n\"\n",
    "        f\"resolution: {raster.rio.resolution()}\\n\"\n",
    "        f\"bounds: {raster.rio.bounds()}\\n\"\n",
    "        f\"count: {raster.count().item()}\\n\"\n",
    "        f\"CRS: {raster.rio.crs}\\n\"\n",
    "    )"
   ]
  },
  {
   "cell_type": "code",
   "execution_count": 7,
   "id": "7691f3d9-9d64-41b2-92a6-5070e380811d",
   "metadata": {},
   "outputs": [
    {
     "name": "stdout",
     "output_type": "stream",
     "text": [
      "S2 raster\n",
      "shape: (10980, 10980)\n",
      "resolution: (10.0, -10.0)\n",
      "bounds: (300000.0, 490200.0, 409800.0, 600000.0)\n",
      "count: 1205604000\n",
      "CRS: EPSG:32622\n",
      "\n",
      "None\n"
     ]
    }
   ],
   "source": [
    "print(\"S2 raster\")\n",
    "print(print_raster(s2_stack))"
   ]
  },
  {
   "cell_type": "code",
   "execution_count": 8,
   "id": "3bc9c03a-7412-40be-8313-8650b1e241db",
   "metadata": {},
   "outputs": [
    {
     "name": "stdout",
     "output_type": "stream",
     "text": [
      "S1 raster\n",
      "shape: (4056, 5610)\n",
      "resolution: (10.0, -10.0)\n",
      "bounds: (-5864533.0, 534178.0, -5808433.0, 574738.0)\n",
      "count: 22754160\n",
      "CRS: EPSG:3857\n",
      "\n",
      "None\n"
     ]
    }
   ],
   "source": [
    "print(\"S1 raster\")\n",
    "print(print_raster(s1_raster))"
   ]
  },
  {
   "cell_type": "code",
   "execution_count": 10,
   "id": "2a0e742b-dcdd-4c64-830a-9d3ec06a1c9c",
   "metadata": {},
   "outputs": [],
   "source": [
    "def create_dir(path, name_dir):\n",
    "    sub_out_dir = os.path.join(path, name_dir)\n",
    "    if not os.path.exists(sub_out_dir):\n",
    "        os.mkdir(sub_out_dir)\n",
    "    return sub_out_dir"
   ]
  },
  {
   "cell_type": "markdown",
   "id": "98247634-6ccb-491e-ad84-c2273950e8a7",
   "metadata": {},
   "source": [
    "### Align rasters"
   ]
  },
  {
   "cell_type": "markdown",
   "id": "ecb7ab59-92fc-422f-b6f1-b343612a4b6e",
   "metadata": {},
   "source": [
    "#### Reproject S1"
   ]
  },
  {
   "cell_type": "code",
   "execution_count": 12,
   "id": "1915067f-8623-48bc-b15a-7270c5002bd8",
   "metadata": {},
   "outputs": [],
   "source": [
    "sub_out_dir = create_dir(out_dir, \"s1\")"
   ]
  },
  {
   "cell_type": "markdown",
   "id": "4492ce50-869e-4bd3-91f8-1148e34878e3",
   "metadata": {},
   "source": [
    "Missing pixels = bbox larger than real raster => we restrict the bbox and clip s1"
   ]
  },
  {
   "cell_type": "code",
   "execution_count": 27,
   "id": "a20648ab-4f62-42a6-af84-11c5afb82c32",
   "metadata": {},
   "outputs": [
    {
     "name": "stdout",
     "output_type": "stream",
     "text": [
      "1/3 : raster S1B_20180114_VV_Sig0_Ortho_TempFilt_W11_dB.tif reprojected ! \n",
      "2/3 : raster S1B_20180114__Sig0_Ortho_TempFilt_W11_VHdB-VVdB.tif reprojected ! \n",
      "3/3 : raster S1B_20180114_VH_Sig0_Ortho_TempFilt_W11_dB.tif reprojected ! \n"
     ]
    }
   ],
   "source": [
    "MARGIN = 200\n",
    "bounds = area.total_bounds\n",
    "bounds = (\n",
    "   np.round(bounds[0]+MARGIN),\n",
    "   np.round(bounds[1]+MARGIN), \n",
    "   np.round(bounds[2]-MARGIN), \n",
    "   np.round(bounds[3]-MARGIN), \n",
    "\n",
    ")\n",
    "\n",
    "area_geom = [_ for _ in area.geometry]\n",
    "\n",
    "tif_list = glob.glob(s1_folder+\"/*.tif\")\n",
    "# reproject every polarization tif\n",
    "for i, file_path in enumerate(tif_list):\n",
    "    file_name = file_path.split(\"/\")[-1]\n",
    "\n",
    "    # ensure to have same clipping\n",
    "    s1_reproject = (\n",
    "         rioxr.open_rasterio(file_path)\n",
    "         .rio.reproject(EPSG)          \n",
    "         .rio.clip_box(*bounds)\n",
    "    )\n",
    "\n",
    "    s1_reproject.rio.to_raster(os.path.join(sub_out_dir, f\"clip_{file_name}\"))\n",
    "    print(f\"{i+1}/{len(tif_list)} : raster {file_name} reprojected ! \")"
   ]
  },
  {
   "cell_type": "code",
   "execution_count": 15,
   "id": "1abb6eb2-26e8-4962-9e86-b47ce939c31c",
   "metadata": {},
   "outputs": [],
   "source": [
    "# how to do it fast with xarray ?\n",
    "s1_arr = s1_reproject.data\n",
    "assert np.count_nonzero(np.where(s1_arr.flatten() == 0)) == 0\n",
    "del s1_arr"
   ]
  },
  {
   "cell_type": "markdown",
   "id": "bf7752dd-8f9b-447e-9429-c5033ff48ff7",
   "metadata": {},
   "source": [
    "#### Stack s1 polarization"
   ]
  },
  {
   "cell_type": "code",
   "execution_count": null,
   "id": "d783c316-07fb-47cf-8402-572292b2ddee",
   "metadata": {},
   "outputs": [
    {
     "name": "stdout",
     "output_type": "stream",
     "text": [
      "clip_S1B_20180114_VV_Sig0_Ortho_TempFilt_W11_dB.tif\n",
      "clip_s1_stack_polarization.tif\n",
      "clip_S1B_20180114__Sig0_Ortho_TempFilt_W11_VHdB-VVdB.tif\n",
      "clip_S1B_20180114_VH_Sig0_Ortho_TempFilt_W11_dB.tif\n"
     ]
    }
   ],
   "source": [
    "polarization_code = [\"_VV_\", \"_VH_\", \"VHdB-VVdB\"]\n",
    "\n",
    "array_stack = {}\n",
    "\n",
    "for file_name in os.listdir(sub_out_dir): \n",
    "    file_path = os.path.join(sub_out_dir, file_name)\n",
    "    da = rioxr.open_rasterio(file_path)\n",
    "    pola = [code.replace(\"_\", \"\").replace(\"dB\", \"\").strip() for code in polarization_code if code in file_name] # TODO catch KeyError\n",
    "    if pola:\n",
    "        array_stack[f\"{pola[0]}\"] = ((\"y\", \"x\"), da.sel(band=1).values)\n",
    "\n",
    "# S1 product already calibrated    \n",
    "coords = dict(y=da.coords[\"y\"].values, x=da.coords[\"x\"].values)\n",
    "attrs = da.attrs \n",
    "\n",
    "s1_stack = xr.Dataset(\n",
    "    data_vars=array_stack, \n",
    "    coords=coords, \n",
    "    attrs=attrs \n",
    ").rio.write_crs(EPSG)\n",
    "\n",
    "s1_stack.rio.to_raster(os.path.join(out_dir, \"s1\", \"clip_s1_stack_polarization.tif\"))"
   ]
  },
  {
   "cell_type": "code",
   "execution_count": 51,
   "id": "71c6b835-955f-4ab3-9848-977260458fd6",
   "metadata": {},
   "outputs": [
    {
     "data": {
      "text/plain": [
       "CRS.from_epsg(32622)"
      ]
     },
     "execution_count": 51,
     "metadata": {},
     "output_type": "execute_result"
    }
   ],
   "source": [
    "s1_stack.rio.crs"
   ]
  },
  {
   "cell_type": "markdown",
   "id": "4fc598b0-50b3-44a4-9bdb-61793d7665d3",
   "metadata": {},
   "source": [
    "#### Clip s2"
   ]
  },
  {
   "cell_type": "markdown",
   "id": "6037de9c-9e4b-40f6-a399-47ed08473527",
   "metadata": {},
   "source": [
    "On align s2 sur s1"
   ]
  },
  {
   "cell_type": "code",
   "execution_count": 16,
   "id": "57e201d6-09fa-4054-b8dc-908936201ec6",
   "metadata": {},
   "outputs": [],
   "source": [
    "s1_reproject = rioxr.open_rasterio(os.path.join(sub_out_dir, \"clip_S1B_20180114_VV_Sig0_Ortho_TempFilt_W11_dB.tif\"))\n",
    "sub_out_dir = create_dir(out_dir, \"s2\")"
   ]
  },
  {
   "cell_type": "markdown",
   "id": "ff78b3ae-da79-41a5-bcbc-3ec9bbdd9250",
   "metadata": {},
   "source": [
    "#### S2 as xr.Dataset\n",
    "* Convert dimension \"band\" as variables"
   ]
  },
  {
   "cell_type": "code",
   "execution_count": 2,
   "id": "484ea64f-9ad9-4c0a-9514-84b10e9c2973",
   "metadata": {},
   "outputs": [
    {
     "ename": "NameError",
     "evalue": "name 's2_stack' is not defined",
     "output_type": "error",
     "traceback": [
      "\u001b[0;31m---------------------------------------------------------------------------\u001b[0m",
      "\u001b[0;31mNameError\u001b[0m                                 Traceback (most recent call last)",
      "Cell \u001b[0;32mIn[2], line 2\u001b[0m\n\u001b[1;32m      1\u001b[0m \u001b[38;5;66;03m# flat dim \"bands\" as variables\u001b[39;00m\n\u001b[0;32m----> 2\u001b[0m s2_clip_match \u001b[38;5;241m=\u001b[39m \u001b[43ms2_stack\u001b[49m\u001b[38;5;241m.\u001b[39mrio\u001b[38;5;241m.\u001b[39mreproject_match(s1_reproject)\n",
      "\u001b[0;31mNameError\u001b[0m: name 's2_stack' is not defined"
     ]
    }
   ],
   "source": [
    "# flat dim \"bands\" as variables\n",
    "s2_clip_match = s2_stack.rio.reproject_match(s1_reproject)"
   ]
  },
  {
   "cell_type": "code",
   "execution_count": 17,
   "id": "29536d6d-b6b2-404d-bec9-117f5d30900f",
   "metadata": {},
   "outputs": [],
   "source": [
    "s2_clip_match = s2_stack.rio.reproject_match(s1_reproject)\n",
    "s2_clip_match.rio.to_raster(os.path.join(sub_out_dir, \"clip_s2_pan_sharp.tif\"))"
   ]
  },
  {
   "cell_type": "code",
   "execution_count": null,
   "id": "28dc308e-e7dc-413e-a048-7649741e53f5",
   "metadata": {},
   "outputs": [],
   "source": [
    "print_raster(s1_reproject)"
   ]
  },
  {
   "cell_type": "code",
   "execution_count": 18,
   "id": "69c29af1-24a2-4d02-bd46-758389d81672",
   "metadata": {},
   "outputs": [
    {
     "name": "stdout",
     "output_type": "stream",
     "text": [
      "S2 Original:\n",
      "----------------\n",
      "\n",
      "shape: (10980, 10980)\n",
      "resolution: (10.0, -10.0)\n",
      "bounds: (300000.0, 490200.0, 409800.0, 600000.0)\n",
      "CRS: EPSG:32622\n",
      "\n",
      "S2 reproject:\n",
      "----------------\n",
      "\n",
      "shape: (4011, 5592)\n",
      "resolution: (9.93904234597862, -9.939042345978647)\n",
      "bounds: (313658.24854230555, 530088.5301961509, 369237.373341018, 569954.0290458713)\n",
      "CRS: EPSG:32622\n",
      "\n",
      "S1 Original:\n",
      "----------------\n",
      "\n",
      "shape: (4056, 5610)\n",
      "resolution: (10.0, -10.0)\n",
      "bounds: (-5864533.0, 534178.0, -5808433.0, 574738.0)\n",
      "CRS: EPSG:3857\n",
      "\n",
      "S1 reproject:\n",
      "----------------\n",
      "\n",
      "shape: (4011, 5592)\n",
      "resolution: (9.93904234597862, -9.939042345978647)\n",
      "bounds: (313658.24854230555, 530088.5301961509, 369237.373341018, 569954.0290458713)\n",
      "CRS: EPSG:32622\n",
      "\n"
     ]
    }
   ],
   "source": [
    "print(\"S2 Original:\\n----------------\\n\")\n",
    "print_raster(s2_stack)\n",
    "print(\"S2 reproject:\\n----------------\\n\")\n",
    "print_raster(s2_clip_match)\n",
    "print(\"S1 Original:\\n----------------\\n\")\n",
    "print_raster(s1_raster)\n",
    "print(\"S1 reproject:\\n----------------\\n\")\n",
    "print_raster(s1_reproject)"
   ]
  },
  {
   "cell_type": "code",
   "execution_count": null,
   "id": "b382493e-7c83-43bc-a568-af13360060af",
   "metadata": {},
   "outputs": [],
   "source": []
  }
 ],
 "metadata": {
  "kernelspec": {
   "display_name": "Python 3 (ipykernel)",
   "language": "python",
   "name": "python3"
  },
  "language_info": {
   "codemirror_mode": {
    "name": "ipython",
    "version": 3
   },
   "file_extension": ".py",
   "mimetype": "text/x-python",
   "name": "python",
   "nbconvert_exporter": "python",
   "pygments_lexer": "ipython3",
   "version": "3.10.12"
  }
 },
 "nbformat": 4,
 "nbformat_minor": 5
}
