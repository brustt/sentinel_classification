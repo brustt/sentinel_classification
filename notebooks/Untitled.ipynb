{
 "cells": [
  {
   "cell_type": "code",
   "execution_count": 1,
   "id": "adc42044-576d-4388-8ee1-f644c1803a59",
   "metadata": {},
   "outputs": [],
   "source": [
    "import otbApplication"
   ]
  },
  {
   "cell_type": "code",
   "execution_count": null,
   "id": "d5bd4fd9-56c8-4c7f-aeed-99415836e29f",
   "metadata": {},
   "outputs": [],
   "source": []
  }
 ],
 "metadata": {
  "kernelspec": {
   "display_name": "Python 3 (ipykernel)",
   "language": "python",
   "name": "python3"
  },
  "language_info": {
   "codemirror_mode": {
    "name": "ipython",
    "version": 3
   },
   "file_extension": ".py",
   "mimetype": "text/x-python",
   "name": "python",
   "nbconvert_exporter": "python",
   "pygments_lexer": "ipython3",
   "version": "3.8.18"
  }
 },
 "nbformat": 4,
 "nbformat_minor": 5
}
