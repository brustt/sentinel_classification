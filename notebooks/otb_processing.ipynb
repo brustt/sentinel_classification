{
 "cells": [
  {
   "cell_type": "code",
   "execution_count": 1,
   "id": "4a1cec4c-a659-473c-a664-2313556e46bc",
   "metadata": {},
   "outputs": [
    {
     "name": "stdout",
     "output_type": "stream",
     "text": [
      "2023-12-27 21:49:52 (INFO) [pyotb] Successfully loaded 117 OTB applications\n"
     ]
    }
   ],
   "source": [
    "import otbApplication as otb\n",
    "import pyotb"
   ]
  },
  {
   "cell_type": "code",
   "execution_count": 4,
   "id": "2ec0b0bb-7477-4ef4-a3a0-03fceabd9dfb",
   "metadata": {},
   "outputs": [],
   "source": [
    "infile = \"../../Data/Tests/rds_clip.tif\"\n",
    "outfile = \"../../Data/Tests/rds_clip_calib.tif\""
   ]
  },
  {
   "cell_type": "code",
   "execution_count": 9,
   "id": "0d0ed8be-cebb-4d36-a298-b6a394d5c015",
   "metadata": {},
   "outputs": [
    {
     "name": "stdout",
     "output_type": "stream",
     "text": [
      "2023-12-27 22:02:05 (INFO): Loading metadata from official product\n"
     ]
    }
   ],
   "source": [
    "calib = pyotb.SARCalibration(\n",
    "    infile,\n",
    ")"
   ]
  },
  {
   "cell_type": "code",
   "execution_count": 10,
   "id": "978b463f-1664-43cd-be64-75d60442184f",
   "metadata": {},
   "outputs": [
    {
     "name": "stdout",
     "output_type": "stream",
     "text": [
      "2023-12-27 22:02:08 (INFO): Estimated memory for full processing: 593.193MB (avail.: 256 MB), optimal image partitioning: 3 blocks\n",
      "2023-12-27 22:02:08 (INFO): File ../../Data/Tests/rds_clip_calib.tif will be written in 4 blocks of 5554x1001 pixels\n"
     ]
    },
    {
     "ename": "RuntimeError",
     "evalue": "otbSarRadiometricCalibrationToImageFilter was not able to fetch the SARCalib metadata.",
     "output_type": "error",
     "traceback": [
      "\u001b[0;31m---------------------------------------------------------------------------\u001b[0m",
      "\u001b[0;31mRuntimeError\u001b[0m                              Traceback (most recent call last)",
      "Cell \u001b[0;32mIn[10], line 1\u001b[0m\n\u001b[0;32m----> 1\u001b[0m \u001b[43mcalib\u001b[49m\u001b[38;5;241;43m.\u001b[39;49m\u001b[43mwrite\u001b[49m\u001b[43m(\u001b[49m\u001b[43moutfile\u001b[49m\u001b[43m)\u001b[49m\n",
      "File \u001b[0;32m~/miniforge3/envs/sentinel_classif3.8/lib/python3.8/site-packages/pyotb/depreciation.py:50\u001b[0m, in \u001b[0;36mdeprecated_alias.<locals>.deco.<locals>.wrapper\u001b[0;34m(*args, **kwargs)\u001b[0m\n\u001b[1;32m     47\u001b[0m \u001b[38;5;129m@functools\u001b[39m\u001b[38;5;241m.\u001b[39mwraps(func)\n\u001b[1;32m     48\u001b[0m \u001b[38;5;28;01mdef\u001b[39;00m \u001b[38;5;21mwrapper\u001b[39m(\u001b[38;5;241m*\u001b[39margs, \u001b[38;5;241m*\u001b[39m\u001b[38;5;241m*\u001b[39mkwargs):\n\u001b[1;32m     49\u001b[0m     rename_kwargs(func\u001b[38;5;241m.\u001b[39m\u001b[38;5;18m__name__\u001b[39m, kwargs, aliases)\n\u001b[0;32m---> 50\u001b[0m     \u001b[38;5;28;01mreturn\u001b[39;00m \u001b[43mfunc\u001b[49m\u001b[43m(\u001b[49m\u001b[38;5;241;43m*\u001b[39;49m\u001b[43margs\u001b[49m\u001b[43m,\u001b[49m\u001b[43m \u001b[49m\u001b[38;5;241;43m*\u001b[39;49m\u001b[38;5;241;43m*\u001b[39;49m\u001b[43mkwargs\u001b[49m\u001b[43m)\u001b[49m\n",
      "File \u001b[0;32m~/miniforge3/envs/sentinel_classif3.8/lib/python3.8/site-packages/pyotb/core.py:926\u001b[0m, in \u001b[0;36mApp.write\u001b[0;34m(self, path, pixel_type, preserve_dtype, ext_fname, **kwargs)\u001b[0m\n\u001b[1;32m    924\u001b[0m \u001b[38;5;28;01mif\u001b[39;00m \u001b[38;5;28mself\u001b[39m\u001b[38;5;241m.\u001b[39mfrozen \u001b[38;5;129;01mor\u001b[39;00m \u001b[38;5;28mself\u001b[39m\u001b[38;5;241m.\u001b[39m__is_multi_output():\n\u001b[1;32m    925\u001b[0m     \u001b[38;5;28mself\u001b[39m\u001b[38;5;241m.\u001b[39mexecute()\n\u001b[0;32m--> 926\u001b[0m \u001b[38;5;28;43mself\u001b[39;49m\u001b[38;5;241;43m.\u001b[39;49m\u001b[43mflush\u001b[49m\u001b[43m(\u001b[49m\u001b[43m)\u001b[49m\n\u001b[1;32m    927\u001b[0m \u001b[38;5;28;01mif\u001b[39;00m \u001b[38;5;129;01mnot\u001b[39;00m parameters:\n\u001b[1;32m    928\u001b[0m     \u001b[38;5;28;01mreturn\u001b[39;00m \u001b[38;5;28;01mTrue\u001b[39;00m\n",
      "File \u001b[0;32m~/miniforge3/envs/sentinel_classif3.8/lib/python3.8/site-packages/pyotb/core.py:813\u001b[0m, in \u001b[0;36mApp.flush\u001b[0;34m(self)\u001b[0m\n\u001b[1;32m    811\u001b[0m \u001b[38;5;250m\u001b[39m\u001b[38;5;124;03m\"\"\"Flush data to disk, this is when WriteOutput is actually called.\"\"\"\u001b[39;00m\n\u001b[1;32m    812\u001b[0m logger\u001b[38;5;241m.\u001b[39mdebug(\u001b[38;5;124m\"\u001b[39m\u001b[38;5;132;01m%s\u001b[39;00m\u001b[38;5;124m: flushing data to disk\u001b[39m\u001b[38;5;124m\"\u001b[39m, \u001b[38;5;28mself\u001b[39m\u001b[38;5;241m.\u001b[39mname)\n\u001b[0;32m--> 813\u001b[0m \u001b[38;5;28;43mself\u001b[39;49m\u001b[38;5;241;43m.\u001b[39;49m\u001b[43mapp\u001b[49m\u001b[38;5;241;43m.\u001b[39;49m\u001b[43mWriteOutput\u001b[49m\u001b[43m(\u001b[49m\u001b[43m)\u001b[49m\n\u001b[1;32m    814\u001b[0m \u001b[38;5;28mself\u001b[39m\u001b[38;5;241m.\u001b[39m_time_end \u001b[38;5;241m=\u001b[39m perf_counter()\n",
      "File \u001b[0;32m/usr/local/lib/OTB-8.1.0-Linux64/lib/python/otbApplication.py:2994\u001b[0m, in \u001b[0;36mApplication.WriteOutput\u001b[0;34m(self)\u001b[0m\n\u001b[1;32m   2993\u001b[0m \u001b[38;5;28;01mdef\u001b[39;00m \u001b[38;5;21mWriteOutput\u001b[39m(\u001b[38;5;28mself\u001b[39m):\n\u001b[0;32m-> 2994\u001b[0m     \u001b[38;5;28;01mreturn\u001b[39;00m \u001b[43m_otbApplication\u001b[49m\u001b[38;5;241;43m.\u001b[39;49m\u001b[43mApplication_WriteOutput\u001b[49m\u001b[43m(\u001b[49m\u001b[38;5;28;43mself\u001b[39;49m\u001b[43m)\u001b[49m\n",
      "\u001b[0;31mRuntimeError\u001b[0m: otbSarRadiometricCalibrationToImageFilter was not able to fetch the SARCalib metadata."
     ]
    }
   ],
   "source": [
    "calib.write(outfile)"
   ]
  },
  {
   "cell_type": "markdown",
   "id": "73d46b3f-4e73-4d53-aaf5-c4ec83e2ab5e",
   "metadata": {},
   "source": [
    "les meta data dans les xml semblent indispendables"
   ]
  },
  {
   "cell_type": "code",
   "execution_count": 14,
   "id": "4149542a-fb08-4956-a7eb-f3bdbd0849b9",
   "metadata": {},
   "outputs": [],
   "source": [
    "infile = \"../../Data/Tests/zip/S1B_IW_GRDH_1SDV_20170425T214234_20170425T214302_005323_00953E_F02D.SAFE/measurement/s1b-iw-grd-vh-20170425t214234-20170425t214302-005323-00953e-002.tiff\"\n",
    "\n",
    "outfile = \"../../Data/Tests/rds_clip_calib.tif\""
   ]
  },
  {
   "cell_type": "code",
   "execution_count": 15,
   "id": "05085c7d-d6e0-4ac2-b209-995e489c55a4",
   "metadata": {},
   "outputs": [
    {
     "name": "stdout",
     "output_type": "stream",
     "text": [
      "2023-12-27 22:25:57 (INFO): Loading metadata from official product\n"
     ]
    }
   ],
   "source": [
    "calib = pyotb.SARCalibration(\n",
    "    infile,\n",
    ")"
   ]
  },
  {
   "cell_type": "code",
   "execution_count": 16,
   "id": "ec1bfa3b-7527-4e35-bff1-149c440c42c6",
   "metadata": {},
   "outputs": [
    {
     "name": "stdout",
     "output_type": "stream",
     "text": [
      "2023-12-27 22:25:59 (INFO): Estimated memory for full processing: 12831.7MB (avail.: 256 MB), optimal image partitioning: 51 blocks\n",
      "2023-12-27 22:25:59 (INFO): File ../../Data/Tests/rds_clip_calib.tif will be written in 52 blocks of 25167x368 pixels\n",
      "Writing ../../Data/Tests/rds_clip_calib.tif...: 100% [**************************************************] (5s)\n"
     ]
    },
    {
     "data": {
      "text/plain": [
       "True"
      ]
     },
     "execution_count": 16,
     "metadata": {},
     "output_type": "execute_result"
    }
   ],
   "source": [
    "calib.write(outfile)"
   ]
  },
  {
   "cell_type": "code",
   "execution_count": null,
   "id": "2b19b2c7-48e1-4779-af05-5c69bfcfeadd",
   "metadata": {},
   "outputs": [],
   "source": []
  }
 ],
 "metadata": {
  "kernelspec": {
   "display_name": "Python 3 (ipykernel)",
   "language": "python",
   "name": "python3"
  },
  "language_info": {
   "codemirror_mode": {
    "name": "ipython",
    "version": 3
   },
   "file_extension": ".py",
   "mimetype": "text/x-python",
   "name": "python",
   "nbconvert_exporter": "python",
   "pygments_lexer": "ipython3",
   "version": "3.8.18"
  }
 },
 "nbformat": 4,
 "nbformat_minor": 5
}
