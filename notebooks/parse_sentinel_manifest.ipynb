{
 "cells": [
  {
   "cell_type": "markdown",
   "id": "31a7e410-05e3-45a7-b8e5-a0b01621d11c",
   "metadata": {},
   "source": [
    "from : https://github.com/bopen/xarray-sentinel/tree/main"
   ]
  },
  {
   "cell_type": "code",
   "execution_count": 1,
   "id": "0ba1f85e-83d5-4d12-82fb-d28f56840660",
   "metadata": {},
   "outputs": [],
   "source": [
    "import geopandas as gpd \n",
    "import numpy as np \n",
    "import os\n",
    "import matplotlib.pyplot as plt \n",
    "import rasterio as rio \n",
    "import rioxarray as rioxr\n",
    "import glob \n",
    "import xarray as xr\n",
    "import folium\n",
    "from shapely.geometry import box\n",
    "\n",
    "from pathlib import Path\n",
    "from typing import Tuple, Dict, Any, List, Optional\n",
    "import fsspec\n",
    "from xml.etree import ElementTree\n",
    "import re"
   ]
  },
  {
   "cell_type": "code",
   "execution_count": 10,
   "id": "52caf32a-b741-424e-a13c-365a02403674",
   "metadata": {},
   "outputs": [],
   "source": [
    "import src.config as cfg"
   ]
  },
  {
   "cell_type": "code",
   "execution_count": 17,
   "id": "d2c1bea1-be6d-4181-bacc-3473b458e233",
   "metadata": {},
   "outputs": [],
   "source": [
    "raster_path = str(Path(cfg.ConfigS1.s1_dir) / \"S1B_IW_GRDH_1SDV_20170425T214234_20170425T214302_005323_00953E_F02D.SAFE\")"
   ]
  },
  {
   "cell_type": "code",
   "execution_count": 18,
   "id": "8c253c45-dec1-4b4f-91c5-f28dc4a996cc",
   "metadata": {},
   "outputs": [],
   "source": [
    "# ?\n",
    "SENTINEL1_NAMESPACES = {\n",
    "    \"safe\": \"http://www.esa.int/safe/sentinel-1.0\",\n",
    "    \"s1\": \"http://www.esa.int/safe/sentinel-1.0/sentinel-1\",\n",
    "    \"s1sarl1\": \"http://www.esa.int/safe/sentinel-1.0/sentinel-1/sar/level-1\",\n",
    "}\n",
    "def findtext(\n",
    "    tree: ElementTree.Element,\n",
    "    query: str,\n",
    "    namespaces: Dict[str, str] = SENTINEL1_NAMESPACES,\n",
    ") -> str:\n",
    "    value = tree.findtext(query, namespaces=namespaces)\n",
    "    if value is None:\n",
    "        raise ValueError(f\"{query=} returned None\")\n",
    "    return value\n",
    "\n",
    "\n",
    "def findall(\n",
    "    tree: ElementTree.Element,\n",
    "    query: str,\n",
    "    namespaces: Dict[str, str] = SENTINEL1_NAMESPACES,\n",
    ") -> List[str]:\n",
    "    tags = tree.findall(query, namespaces=namespaces)\n",
    "    values: List[str] = []\n",
    "    for tag in tags:\n",
    "        if tag.text is None:\n",
    "            raise ValueError(f\"{query=} returned None\")\n",
    "        values.append(tag.text)\n",
    "    return values\n",
    "\n",
    "def parse_annotation_filename(name: str) -> Tuple[str, str, str, str]:\n",
    "    match = re.match(\n",
    "        r\"([a-z-]*)s1[ab]-([^-]*)-[^-]*-([^-]*)-([\\dt]*)-\", os.path.basename(name)\n",
    "    )\n",
    "    if match is None:\n",
    "        raise ValueError(f\"cannot parse name {name!r}\")\n",
    "    return tuple(match.groups())  # type: ignore"
   ]
  },
  {
   "cell_type": "code",
   "execution_count": 19,
   "id": "97408b7e-4723-418e-bd00-ad98c6f42733",
   "metadata": {},
   "outputs": [],
   "source": [
    "def get_fs_path(\n",
    "    urlpath_or_path,\n",
    "    fs: Optional[fsspec.AbstractFileSystem] = None,\n",
    "    storage_options: Optional[Dict[str, Any]] = None,\n",
    ") -> Tuple[fsspec.AbstractFileSystem, str]:\n",
    "    if fs is not None and storage_options is not None:\n",
    "        raise TypeError(\"only one of 'fs' and 'storage_options' can be not None\")\n",
    "\n",
    "    if fs is None:\n",
    "        fs, _, paths = fsspec.get_fs_token_paths(\n",
    "            urlpath_or_path, storage_options=storage_options\n",
    "        )\n",
    "        if len(paths) == 0:\n",
    "            raise ValueError(f\"file or object not found {urlpath_or_path!r}\")\n",
    "        elif len(paths) > 1:\n",
    "            raise ValueError(f\"multiple files or objects found {urlpath_or_path!r}\")\n",
    "        path = paths[0]\n",
    "    else:\n",
    "        path = str(urlpath_or_path)\n",
    "\n",
    "    if fs.isdir(path):\n",
    "        path = os.path.join(path, \"manifest.safe\")\n",
    "\n",
    "    return fs, path"
   ]
  },
  {
   "cell_type": "code",
   "execution_count": 20,
   "id": "2c0f2fa7-0c08-4d7f-b099-432b140e7d0f",
   "metadata": {},
   "outputs": [],
   "source": [
    "product_urlpath= raster_path[:]\n",
    "fs= None\n",
    "storage_options= None\n",
    "fs, manifest_path = get_fs_path(product_urlpath, fs, storage_options)\n"
   ]
  },
  {
   "cell_type": "code",
   "execution_count": null,
   "id": "223be5d1-5132-466a-8c77-3b384bf24b46",
   "metadata": {},
   "outputs": [],
   "source": []
  },
  {
   "cell_type": "code",
   "execution_count": 21,
   "id": "6794c987-2a1c-4370-9ebc-ce8d783de79b",
   "metadata": {},
   "outputs": [
    {
     "data": {
      "text/plain": [
       "<fsspec.implementations.local.LocalFileSystem at 0x7f6db044e370>"
      ]
     },
     "execution_count": 21,
     "metadata": {},
     "output_type": "execute_result"
    }
   ],
   "source": [
    "fs"
   ]
  },
  {
   "cell_type": "code",
   "execution_count": 22,
   "id": "2f47dcc8-fe59-44ad-817f-3e2ead91b7d8",
   "metadata": {},
   "outputs": [
    {
     "data": {
      "text/plain": [
       "'/home/rustt/Documents/Projects/S1_S2_classification/sentinel_classification/data/raw/S1/zip/S1B_IW_GRDH_1SDV_20170425T214234_20170425T214302_005323_00953E_F02D.SAFE/manifest.safe'"
      ]
     },
     "execution_count": 22,
     "metadata": {},
     "output_type": "execute_result"
    }
   ],
   "source": [
    "manifest_path"
   ]
  },
  {
   "cell_type": "code",
   "execution_count": 23,
   "id": "bf5b00ce-4a57-43b3-b88f-e5a10ab83ba3",
   "metadata": {},
   "outputs": [],
   "source": [
    "def parse_manifest_sentinel1(\n",
    "    manifest_path,\n",
    ") -> Tuple[Dict[str, Any], Dict[str, Tuple[str, str, str, str, str]]]:\n",
    "    # We use ElementTree because we didn't find a XSD definition for the manifest\n",
    "    manifest = ElementTree.parse(manifest_path).getroot()\n",
    "\n",
    "    family_name = findtext(manifest, \".//safe:platform/safe:familyName\")\n",
    "    if family_name != \"SENTINEL-1\":\n",
    "        raise ValueError(f\"{family_name=} not supported\")\n",
    "\n",
    "    number = findtext(manifest, \".//safe:platform/safe:number\")\n",
    "    mode = findtext(manifest, \".//s1sarl1:instrumentMode/s1sarl1:mode\")\n",
    "    swaths = findall(manifest, \".//s1sarl1:instrumentMode/s1sarl1:swath\")\n",
    "\n",
    "    orbit_number = findall(manifest, \".//safe:orbitNumber\")\n",
    "    if len(orbit_number) != 2 or orbit_number[0] != orbit_number[1]:\n",
    "        raise ValueError(f\"{orbit_number=} not supported\")\n",
    "\n",
    "    relative_orbit_number = findall(manifest, \".//safe:relativeOrbitNumber\")\n",
    "    if (\n",
    "        len(relative_orbit_number) != 2\n",
    "        or relative_orbit_number[0] != relative_orbit_number[1]\n",
    "    ):\n",
    "        raise ValueError(f\"{relative_orbit_number=} not supported\")\n",
    "\n",
    "    orbit_pass = findtext(manifest, \".//s1:pass\")\n",
    "    if orbit_pass not in {\"ASCENDING\", \"DESCENDING\"}:\n",
    "        raise ValueError(f\"pass={orbit_pass} not supported\")\n",
    "\n",
    "    ascending_node_time = findtext(manifest, \".//s1:ascendingNodeTime\")\n",
    "\n",
    "    transmitter_receiver_polarisations = findall(\n",
    "        manifest, \".//s1sarl1:transmitterReceiverPolarisation\"\n",
    "    )\n",
    "    product_type = findtext(manifest, \".//s1sarl1:productType\")\n",
    "\n",
    "    start_time = findtext(manifest, \".//safe:startTime\")\n",
    "    stop_time = findtext(manifest, \".//safe:stopTime\")\n",
    "\n",
    "    attributes = {\n",
    "        \"family_name\": family_name,\n",
    "        \"number\": number,\n",
    "        \"mode\": mode,\n",
    "        \"swaths\": swaths,\n",
    "        \"orbit_number\": int(orbit_number[0]),\n",
    "        \"relative_orbit_number\": int(relative_orbit_number[0]),\n",
    "        \"pass\": orbit_pass,\n",
    "        \"ascending_node_time\": ascending_node_time,\n",
    "        \"transmitter_receiver_polarisations\": transmitter_receiver_polarisations,\n",
    "        \"product_type\": product_type,\n",
    "        \"start_time\": start_time,\n",
    "        \"stop_time\": stop_time,\n",
    "    }\n",
    "\n",
    "    files = {}\n",
    "\n",
    "    for file_tag in manifest.findall(\".//dataObjectSection/dataObject\"):\n",
    "        location_tag = file_tag.find(\".//fileLocation\")\n",
    "        if location_tag is not None:\n",
    "            file_href = location_tag.attrib[\"href\"]\n",
    "            try:\n",
    "                description = parse_annotation_filename(os.path.basename(file_href))\n",
    "            except ValueError:\n",
    "                continue\n",
    "            print(file_href)\n",
    "\n",
    "            file_type = file_tag.attrib[\"repID\"]\n",
    "            files[file_href] = (file_type,) + description\n",
    "\n",
    "    return attributes, files\n"
   ]
  },
  {
   "cell_type": "code",
   "execution_count": 24,
   "id": "0aab2c68-3037-4d4e-9813-5526d83c818b",
   "metadata": {},
   "outputs": [
    {
     "name": "stdout",
     "output_type": "stream",
     "text": [
      "./annotation/s1b-iw-grd-vh-20170425t214234-20170425t214302-005323-00953e-002.xml\n",
      "./annotation/calibration/noise-s1b-iw-grd-vh-20170425t214234-20170425t214302-005323-00953e-002.xml\n",
      "./annotation/calibration/calibration-s1b-iw-grd-vh-20170425t214234-20170425t214302-005323-00953e-002.xml\n",
      "./annotation/s1b-iw-grd-vv-20170425t214234-20170425t214302-005323-00953e-001.xml\n",
      "./annotation/calibration/noise-s1b-iw-grd-vv-20170425t214234-20170425t214302-005323-00953e-001.xml\n",
      "./annotation/calibration/calibration-s1b-iw-grd-vv-20170425t214234-20170425t214302-005323-00953e-001.xml\n",
      "./measurement/s1b-iw-grd-vh-20170425t214234-20170425t214302-005323-00953e-002.tiff\n",
      "./measurement/s1b-iw-grd-vv-20170425t214234-20170425t214302-005323-00953e-001.tiff\n"
     ]
    }
   ],
   "source": [
    "common_attrs, product_files = parse_manifest_sentinel1(manifest_path)"
   ]
  },
  {
   "cell_type": "code",
   "execution_count": 25,
   "id": "90e6dac8-c07e-4c54-9635-afada837d214",
   "metadata": {},
   "outputs": [
    {
     "data": {
      "text/plain": [
       "{'family_name': 'SENTINEL-1',\n",
       " 'number': 'B',\n",
       " 'mode': 'IW',\n",
       " 'swaths': ['IW'],\n",
       " 'orbit_number': 5323,\n",
       " 'relative_orbit_number': 47,\n",
       " 'pass': 'ASCENDING',\n",
       " 'ascending_node_time': '2017-04-25T20:02:53.956661',\n",
       " 'transmitter_receiver_polarisations': ['VV', 'VH'],\n",
       " 'product_type': 'GRD',\n",
       " 'start_time': '2017-04-25T21:42:34.373420',\n",
       " 'stop_time': '2017-04-25T21:43:02.748930'}"
      ]
     },
     "execution_count": 25,
     "metadata": {},
     "output_type": "execute_result"
    }
   ],
   "source": [
    "common_attrs"
   ]
  },
  {
   "cell_type": "code",
   "execution_count": 26,
   "id": "0b147ffe-f0cb-48fc-a1c4-f8f5ff7d56ca",
   "metadata": {},
   "outputs": [
    {
     "data": {
      "text/plain": [
       "{'./annotation/s1b-iw-grd-vh-20170425t214234-20170425t214302-005323-00953e-002.xml': ('s1Level1ProductSchema',\n",
       "  '',\n",
       "  'iw',\n",
       "  'vh',\n",
       "  '20170425t214234'),\n",
       " './annotation/calibration/noise-s1b-iw-grd-vh-20170425t214234-20170425t214302-005323-00953e-002.xml': ('s1Level1NoiseSchema',\n",
       "  'noise-',\n",
       "  'iw',\n",
       "  'vh',\n",
       "  '20170425t214234'),\n",
       " './annotation/calibration/calibration-s1b-iw-grd-vh-20170425t214234-20170425t214302-005323-00953e-002.xml': ('s1Level1CalibrationSchema',\n",
       "  'calibration-',\n",
       "  'iw',\n",
       "  'vh',\n",
       "  '20170425t214234'),\n",
       " './annotation/s1b-iw-grd-vv-20170425t214234-20170425t214302-005323-00953e-001.xml': ('s1Level1ProductSchema',\n",
       "  '',\n",
       "  'iw',\n",
       "  'vv',\n",
       "  '20170425t214234'),\n",
       " './annotation/calibration/noise-s1b-iw-grd-vv-20170425t214234-20170425t214302-005323-00953e-001.xml': ('s1Level1NoiseSchema',\n",
       "  'noise-',\n",
       "  'iw',\n",
       "  'vv',\n",
       "  '20170425t214234'),\n",
       " './annotation/calibration/calibration-s1b-iw-grd-vv-20170425t214234-20170425t214302-005323-00953e-001.xml': ('s1Level1CalibrationSchema',\n",
       "  'calibration-',\n",
       "  'iw',\n",
       "  'vv',\n",
       "  '20170425t214234'),\n",
       " './measurement/s1b-iw-grd-vh-20170425t214234-20170425t214302-005323-00953e-002.tiff': ('s1Level1MeasurementSchema',\n",
       "  '',\n",
       "  'iw',\n",
       "  'vh',\n",
       "  '20170425t214234'),\n",
       " './measurement/s1b-iw-grd-vv-20170425t214234-20170425t214302-005323-00953e-001.tiff': ('s1Level1MeasurementSchema',\n",
       "  '',\n",
       "  'iw',\n",
       "  'vv',\n",
       "  '20170425t214234')}"
      ]
     },
     "execution_count": 26,
     "metadata": {},
     "output_type": "execute_result"
    }
   ],
   "source": [
    " product_files"
   ]
  },
  {
   "cell_type": "markdown",
   "id": "e6a9858e-7b48-45b7-aaf7-f263dfd118e4",
   "metadata": {},
   "source": [
    "Extract footprints : see `open_gcp_dataset`"
   ]
  },
  {
   "cell_type": "code",
   "execution_count": 27,
   "id": "d6d2a25d-153b-46a7-89ab-cdf17a989142",
   "metadata": {},
   "outputs": [
    {
     "data": {
      "text/plain": [
       "'/home/rustt/Documents/Projects/S1_S2_classification/sentinel_classification/data/raw/S1/zip/S1B_IW_GRDH_1SDV_20170425T214234_20170425T214302_005323_00953E_F02D.SAFE'"
      ]
     },
     "execution_count": 27,
     "metadata": {},
     "output_type": "execute_result"
    }
   ],
   "source": [
    "raster_path"
   ]
  },
  {
   "cell_type": "code",
   "execution_count": 35,
   "id": "df18213a-d6bf-4899-bfe4-d0af45f604f0",
   "metadata": {},
   "outputs": [
    {
     "name": "stdout",
     "output_type": "stream",
     "text": [
      "s1b-iw-grd-vh-20170425t214234-20170425t214302-005323-00953e-002.tiff\n",
      "s1b-iw-grd-vv-20170425t214234-20170425t214302-005323-00953e-001.tiff\n"
     ]
    }
   ],
   "source": [
    "for root, dirs, files in os.walk(raster_path):\n",
    "    for file in files:\n",
    "        if file.endswith(\".tiff\"):   \n",
    "            print(file)"
   ]
  },
  {
   "cell_type": "code",
   "execution_count": 40,
   "id": "ee629e7d-0c75-404a-b99d-943f6cabb47e",
   "metadata": {},
   "outputs": [
    {
     "name": "stdout",
     "output_type": "stream",
     "text": [
      "/home/rustt/Documents/Projects/S1_S2_classification/sentinel_classification/data/raw/S1/zip/S1B_IW_GRDH_1SDV_20170425T214234_20170425T214302_005323_00953E_F02D.SAFE/measurement/s1b-iw-grd-vh-20170425t214234-20170425t214302-005323-00953e-002.tiff\n",
      "/home/rustt/Documents/Projects/S1_S2_classification/sentinel_classification/data/raw/S1/zip/S1B_IW_GRDH_1SDV_20170425T214234_20170425T214302_005323_00953E_F02D.SAFE/measurement/s1b-iw-grd-vv-20170425t214234-20170425t214302-005323-00953e-001.tiff\n"
     ]
    }
   ],
   "source": [
    "from pathlib import Path\n",
    "for file in Path(raster_path).rglob(\"*.tiff\"): \n",
    "    print(file)"
   ]
  },
  {
   "cell_type": "code",
   "execution_count": 41,
   "id": "40541099-e35d-44ce-8908-a8058e733f44",
   "metadata": {},
   "outputs": [
    {
     "data": {
      "text/plain": [
       "'/home/rustt/Documents/Projects/S1_S2_classification/sentinel_classification/data/raw/S1/zip/S1B_IW_GRDH_1SDV_20170425T214234_20170425T214302_005323_00953E_F02D.SAFE'"
      ]
     },
     "execution_count": 41,
     "metadata": {},
     "output_type": "execute_result"
    }
   ],
   "source": [
    "raster_path"
   ]
  },
  {
   "cell_type": "code",
   "execution_count": null,
   "id": "d4c525e9-f89b-4647-955f-ac0319e11a5f",
   "metadata": {},
   "outputs": [],
   "source": []
  }
 ],
 "metadata": {
  "kernelspec": {
   "display_name": "Python 3 (ipykernel)",
   "language": "python",
   "name": "python3"
  },
  "language_info": {
   "codemirror_mode": {
    "name": "ipython",
    "version": 3
   },
   "file_extension": ".py",
   "mimetype": "text/x-python",
   "name": "python",
   "nbconvert_exporter": "python",
   "pygments_lexer": "ipython3",
   "version": "3.10.12"
  }
 },
 "nbformat": 4,
 "nbformat_minor": 5
}
