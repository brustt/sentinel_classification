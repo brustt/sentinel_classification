{
 "cells": [
  {
   "cell_type": "code",
   "execution_count": 1,
   "id": "83bd5a0c-b60b-4d8f-a81a-5d3dfc93eadc",
   "metadata": {},
   "outputs": [
    {
     "name": "stdout",
     "output_type": "stream",
     "text": [
      "2024-01-21 16:54:16 (INFO) [pyotb] Successfully loaded 117 OTB applications\n"
     ]
    }
   ],
   "source": [
    "import geopandas as gpd \n",
    "import numpy as np \n",
    "import os\n",
    "import matplotlib.pyplot as plt \n",
    "import rasterio as rio \n",
    "import rioxarray as rioxr\n",
    "import glob \n",
    "import xarray as xr\n",
    "import folium\n",
    "from shapely.geometry import box, Polygon\n",
    "import pandas as pd \n",
    "from shapely import wkt\n",
    "import otbApplication\n",
    "import pyotb\n",
    "\n",
    "from pathlib import Path\n",
    "from typing import Tuple, Dict, Any, List, Optional\n",
    "import fsspec\n",
    "from xml.etree import ElementTree\n",
    "import re"
   ]
  },
  {
   "cell_type": "code",
   "execution_count": 2,
   "id": "79c35eaa-5592-471a-a41d-b02edae66d7c",
   "metadata": {},
   "outputs": [],
   "source": [
    "import src.config as cfg"
   ]
  },
  {
   "cell_type": "code",
   "execution_count": 3,
   "id": "aae3f3c0-acfb-4e22-9575-b654e094f050",
   "metadata": {},
   "outputs": [],
   "source": [
    "CRS = 32622"
   ]
  },
  {
   "cell_type": "markdown",
   "id": "0b561a55-b1fa-4acf-9612-e594ac0e1664",
   "metadata": {},
   "source": [
    "root_data_path = \"/home/rustt/Documents/Projects/S1_S2_classification/Data\"\n",
    "\n",
    "raster_path_zip = str(Path(root_data_path) / \"S1/zip\" / \"S1B_IW_GRDH_1SDV_20170425T214234_20170425T214302_005323_00953E_F02D.zip\")\n",
    "\n",
    "s1_dir = str(Path(root_data_path) / \"S1/zip\")\n",
    "\n",
    "raster_path = str(Path(root_data_path) / \"Tests/zip\" / \"S1B_IW_GRDH_1SDV_20170425T214234_20170425T214302_005323_00953E_F02D.SAFE\")\n",
    "raster_path_tif = str(Path(root_data_path) / \"Tests\" / \"s1b-iw-grd-vh-20170425t214234-20170425t214302-005323-00953e-002.tiff\")\n",
    "raster_file_tif = \"s1b-iw-grd-vh-20170425t214234-20170425t214302-005323-00953e-002.tiff\"\n",
    "\n",
    "study_area = str(Path(root_data_path) / \"StudyArea\" / \"StudyArea.shp\")"
   ]
  },
  {
   "cell_type": "markdown",
   "id": "06e9fa39-ca20-4ecb-b856-81515ef58b88",
   "metadata": {},
   "source": [
    "Etapes : \n",
    "* 1 - parsing coordinates bbox\n",
    "* 2 - check product which intersect a least 98% study area => filtered\n",
    "* 3 - calibrate product + ortho + clip"
   ]
  },
  {
   "cell_type": "markdown",
   "id": "823713b0-28b3-4e7a-a689-d17fc0188a3c",
   "metadata": {},
   "source": [
    "### Extract valid sentinel 1 products\n",
    "* overlay of at least th_intersect (0.98 default) over roi area\n",
    "* same orbit as specify in roi_area"
   ]
  },
  {
   "cell_type": "code",
   "execution_count": 4,
   "id": "58ead1e2-e6a9-44b3-b44e-caa861e82065",
   "metadata": {},
   "outputs": [],
   "source": [
    "roi_area = gpd.read_file(cfg.study_area)"
   ]
  },
  {
   "cell_type": "code",
   "execution_count": 5,
   "id": "d2d43e81-491d-4220-9273-210d467fec7b",
   "metadata": {},
   "outputs": [],
   "source": [
    "def extract_footprint(manifest_path): \n",
    "    manifest = ElementTree.parse(manifest_path).getroot()\n",
    "    bbox = manifest.findtext(\".//safe:footPrint/\", namespaces=cfg.ConfigS1.SENTINEL1_NAMESPACES)\n",
    "    bbox = [float(_) for _  in re.findall(\"-*\\d+\\.\\d+\", bbox)]\n",
    "    return Polygon([tuple([x, y]) for x,y in zip(bbox[1::2], bbox[0::2])])"
   ]
  },
  {
   "cell_type": "code",
   "execution_count": 6,
   "id": "47e92589-12ec-4be0-9f4e-5258a4cf7fc9",
   "metadata": {},
   "outputs": [],
   "source": [
    "# from xarray-sentinel : https://github.com/bopen/xarray-sentinel/blob/main/xarray_sentinel/esa_safe.py\n",
    "def findtext(\n",
    "    tree: ElementTree.Element,\n",
    "    query: str,\n",
    "    namespaces: Dict[str, str] = cfg.ConfigS1.SENTINEL1_NAMESPACES,\n",
    ") -> str:\n",
    "    value = tree.findtext(query, namespaces=namespaces)\n",
    "    if value is None:\n",
    "        raise ValueError(f\"{query=} returned None\")\n",
    "    return value\n",
    "\n",
    "\n",
    "def findall(\n",
    "    tree: ElementTree.Element,\n",
    "    query: str,\n",
    "    namespaces: Dict[str, str] = cfg.ConfigS1.SENTINEL1_NAMESPACES,\n",
    ") -> List[str]:\n",
    "    tags = tree.findall(query, namespaces=namespaces)\n",
    "    values: List[str] = []\n",
    "    for tag in tags:\n",
    "        if tag.text is None:\n",
    "            raise ValueError(f\"{query=} returned None\")\n",
    "        values.append(tag.text)\n",
    "    return values\n",
    "\n",
    "def parse_annotation_filename(name: str) -> Tuple[str, str, str, str]:\n",
    "    match = re.match(\n",
    "        r\"([a-z-]*)s1[ab]-([^-]*)-[^-]*-([^-]*)-([\\dt]*)-\", os.path.basename(name)\n",
    "    )\n",
    "    if match is None:\n",
    "        raise ValueError(f\"cannot parse name {name!r}\")\n",
    "    return tuple(match.groups())  # type: ignore\n",
    "\n",
    "def parse_manifest_sentinel1(\n",
    "    manifest_path,\n",
    ") -> Tuple[Dict[str, Any], Dict[str, Tuple[str, str, str, str, str]]]:\n",
    "    # We use ElementTree because we didn't find a XSD definition for the manifest\n",
    "    manifest = ElementTree.parse(manifest_path).getroot()\n",
    "\n",
    "    family_name = findtext(manifest, \".//safe:platform/safe:familyName\")\n",
    "    if family_name != \"SENTINEL-1\":\n",
    "        raise ValueError(f\"{family_name=} not supported\")\n",
    "\n",
    "    number = findtext(manifest, \".//safe:platform/safe:number\")\n",
    "    mode = findtext(manifest, \".//s1sarl1:instrumentMode/s1sarl1:mode\")\n",
    "    swaths = findall(manifest, \".//s1sarl1:instrumentMode/s1sarl1:swath\")\n",
    "\n",
    "    orbit_number = findall(manifest, \".//safe:orbitNumber\")\n",
    "    if len(orbit_number) != 2 or orbit_number[0] != orbit_number[1]:\n",
    "        raise ValueError(f\"{orbit_number=} not supported\")\n",
    "\n",
    "    relative_orbit_number = findall(manifest, \".//safe:relativeOrbitNumber\")\n",
    "    if (\n",
    "        len(relative_orbit_number) != 2\n",
    "        or relative_orbit_number[0] != relative_orbit_number[1]\n",
    "    ):\n",
    "        raise ValueError(f\"{relative_orbit_number=} not supported\")\n",
    "\n",
    "    orbit_pass = findtext(manifest, \".//s1:pass\")\n",
    "    if orbit_pass not in {\"ASCENDING\", \"DESCENDING\"}:\n",
    "        raise ValueError(f\"pass={orbit_pass} not supported\")\n",
    "\n",
    "    ascending_node_time = findtext(manifest, \".//s1:ascendingNodeTime\")\n",
    "\n",
    "    transmitter_receiver_polarisations = findall(\n",
    "        manifest, \".//s1sarl1:transmitterReceiverPolarisation\"\n",
    "    )\n",
    "    product_type = findtext(manifest, \".//s1sarl1:productType\")\n",
    "\n",
    "    start_time = findtext(manifest, \".//safe:startTime\")\n",
    "    stop_time = findtext(manifest, \".//safe:stopTime\")\n",
    "\n",
    "    attributes = {\n",
    "        \"family_name\": family_name,\n",
    "        \"number\": number,\n",
    "        \"mode\": mode,\n",
    "        \"swaths\": swaths,\n",
    "        \"orbit_number\": int(orbit_number[0]),\n",
    "        \"relative_orbit_number\": int(relative_orbit_number[0]),\n",
    "        \"pass\": orbit_pass,\n",
    "        \"ascending_node_time\": ascending_node_time,\n",
    "        \"transmitter_receiver_polarisations\": transmitter_receiver_polarisations,\n",
    "        \"product_type\": product_type,\n",
    "        \"start_time\": start_time,\n",
    "        \"stop_time\": stop_time,\n",
    "    }\n",
    "\n",
    "    files = {}\n",
    "\n",
    "    for file_tag in manifest.findall(\".//dataObjectSection/dataObject\"):\n",
    "        location_tag = file_tag.find(\".//fileLocation\")\n",
    "        if location_tag is not None:\n",
    "            file_href = location_tag.attrib[\"href\"]\n",
    "            try:\n",
    "                description = parse_annotation_filename(os.path.basename(file_href))\n",
    "            except ValueError:\n",
    "                continue\n",
    "            file_type = file_tag.attrib[\"repID\"]\n",
    "            files[file_href] = (file_type,) + description\n",
    "\n",
    "    return attributes, files\n",
    "\n",
    "def get_fs_path(\n",
    "    urlpath_or_path,\n",
    "    fs: Optional[fsspec.AbstractFileSystem] = None,\n",
    "    storage_options: Optional[Dict[str, Any]] = None,\n",
    ") -> Tuple[fsspec.AbstractFileSystem, str]:\n",
    "    if fs is not None and storage_options is not None:\n",
    "        raise TypeError(\"only one of 'fs' and 'storage_options' can be not None\")\n",
    "\n",
    "    if fs is None:\n",
    "        fs, _, paths = fsspec.get_fs_token_paths(\n",
    "            urlpath_or_path, storage_options=storage_options\n",
    "        )\n",
    "        if len(paths) == 0:\n",
    "            raise ValueError(f\"file or object not found {urlpath_or_path!r}\")\n",
    "        elif len(paths) > 1:\n",
    "            raise ValueError(f\"multiple files or objects found {urlpath_or_path!r}\")\n",
    "        path = paths[0]\n",
    "    else:\n",
    "        path = str(urlpath_or_path)\n",
    "\n",
    "    if fs.isdir(path):\n",
    "        path = os.path.join(path, \"manifest.safe\")\n",
    "\n",
    "    return fs, path"
   ]
  },
  {
   "cell_type": "code",
   "execution_count": 17,
   "id": "064b5b9f-f953-48c0-8ca3-c60050e2c3f9",
   "metadata": {},
   "outputs": [],
   "source": [
    "def compute_intersection(shp_rs: gpd.GeoDataFrame, shp_roi: gpd. GeoDataFrame) -> gpd.GeoDataFrame:\n",
    "    assert shp_rs.crs == shp_roi.crs\n",
    "    shp_rs[\"intersec_roi_perc\"] = gpd.overlay(shp_rs, shp_roi, how='intersection').area / shp_roi.area.item()\n",
    "    return shp_rs\n",
    "\n",
    "def get_product_rasters_path(product_url):\n",
    "    tif_path = [str(p) for p in Path(product_url).rglob(\"*.tiff\")] \n",
    "    return tif_path\n",
    "\n",
    "def extract_rs_meta(prod_name: str, product_url: str) -> Dict[str, Any]:\n",
    "    \"\"\"\n",
    "    Extract all meta data of S1 product\n",
    "    - footprint\n",
    "    - sensor\n",
    "    - scene\n",
    "    - raster paths\n",
    "    \n",
    "    \"\"\"\n",
    "    _, manifest_path = get_fs_path(product_url)\n",
    "    geom_rs = extract_footprint(manifest_path)\n",
    "    common_attrs, products = parse_manifest_sentinel1(manifest_path)\n",
    "    tif_path = get_product_rasters_path(product_url)\n",
    "    \n",
    "    meta = {\n",
    "        **dict(prod_name=prod_name, \n",
    "               geometry=geom_rs, \n",
    "               raster_path=tif_path), \n",
    "        **common_attrs\n",
    "    }\n",
    "\n",
    "    return meta\n",
    "\n",
    "\n",
    "def get_valid_products(s1_dir: str, \n",
    "                       shp_path: str, \n",
    "                       col_orbit_shp: str=\"RelOrb\",\n",
    "                       crs_shp: int=4326,\n",
    "                       th_intersec: float=0.98, \n",
    "                       save: bool=True) -> gpd.GeoDataFrame:\n",
    "    \"\"\" \n",
    "    Extract meta data from the S1 products which are compliant : \n",
    "    - to orbit number\n",
    "    - cover at list th_intersec of the study area\n",
    "\n",
    "    Return : geoDataFrame of metadata S1 products\n",
    "    \"\"\"\n",
    "    \n",
    "\n",
    "    valid_prod = []\n",
    "    prod_meta = []\n",
    "\n",
    "    roi_area = gpd.read_file(shp_path).to_crs(CRS)\n",
    "\n",
    "    \n",
    "    for prod_name in os.listdir(s1_dir):\n",
    "        if prod_name.endswith(\".SAFE\"):\n",
    "\n",
    "            product_url = os.path.join(s1_dir, prod_name)\n",
    "            \n",
    "            meta = extract_rs_meta(prod_name, product_url)\n",
    "            \n",
    "            prod_meta.append(meta)\n",
    "\n",
    "    prod_meta = gpd.GeoDataFrame(prod_meta, geometry=\"geometry\", crs=crs_shp).to_crs(CRS)\n",
    "\n",
    "    prod_meta = compute_intersection(prod_meta, roi_area)\n",
    "\n",
    "    prod_meta = (\n",
    "        prod_meta[\n",
    "        (prod_meta.intersec_roi_perc >= th_intersec) & \n",
    "        (prod_meta.relative_orbit_number == roi_area[col_orbit_shp].item())\n",
    "        ]\n",
    "    )\n",
    "    # cast to str\n",
    "    prod_meta[\"geometry\"] = prod_meta.geometry.apply(lambda x: wkt.dumps(x))\n",
    "    prod_meta = pd.DataFrame(prod_meta)\n",
    "\n",
    "    if save:\n",
    "        prod_meta.to_csv(cfg.ConfigS1.meta_product_path)\n",
    "\n",
    "    return prod_meta"
   ]
  },
  {
   "cell_type": "code",
   "execution_count": 18,
   "id": "32904f10-06ee-477e-af1a-5846afeb9f14",
   "metadata": {},
   "outputs": [
    {
     "name": "stderr",
     "output_type": "stream",
     "text": [
      "/home/rustt/miniforge3/envs/sentinel_classif3.8/lib/python3.8/site-packages/geopandas/geodataframe.py:1537: UserWarning: Geometry column does not contain geometry.\n",
      "  warnings.warn(\"Geometry column does not contain geometry.\")\n"
     ]
    }
   ],
   "source": [
    "res = get_valid_products(cfg.ConfigS1.s1_dir, cfg.study_area)"
   ]
  },
  {
   "cell_type": "code",
   "execution_count": 9,
   "id": "92706329-4626-42ba-afd7-61b812b7a4a6",
   "metadata": {},
   "outputs": [
    {
     "data": {
      "text/plain": [
       "'S1B_IW_GRDH_1SDV_20180114T214240_20180114T214308_009173_0106C1_7F29.SAFE'"
      ]
     },
     "execution_count": 9,
     "metadata": {},
     "output_type": "execute_result"
    }
   ],
   "source": [
    "res[\"prod_name\"].iloc[0]"
   ]
  },
  {
   "cell_type": "code",
   "execution_count": null,
   "id": "b1263c64-b196-4022-8829-d124e1b29bbf",
   "metadata": {},
   "outputs": [],
   "source": []
  },
  {
   "cell_type": "code",
   "execution_count": null,
   "id": "85980891-0828-44e7-a872-184463ca2414",
   "metadata": {},
   "outputs": [],
   "source": [
    "ax = res.plot(color=\"palegreen\", edgecolor=\"green\", figsize=(10, 5))\n",
    "roi_area.to_crs(CRS).plot(ax=ax, color=\"red\")"
   ]
  },
  {
   "cell_type": "markdown",
   "id": "5dc5ea9a-6dfe-4772-a213-5d74be1bff39",
   "metadata": {},
   "source": [
    "### S1 Calibration"
   ]
  },
  {
   "cell_type": "code",
   "execution_count": null,
   "id": "50cc614f-a5ec-4dcc-857d-8e13cddf0c0e",
   "metadata": {},
   "outputs": [],
   "source": [
    "\n",
    "s1_path_test = \"/home/rustt/Documents/Projects/S1_S2_classification/Data/S1/zip/S1B_IW_GRDH_1SDV_20170425T214234_20170425T214302_005323_00953E_F02D.SAFE/measurement/s1b-iw-grd-vv-20170425t214234-20170425t214302-005323-00953e-001.tiff\"\n"
   ]
  },
  {
   "cell_type": "code",
   "execution_count": null,
   "id": "c3579921-cac5-4bef-a9e9-dff9b3bf5423",
   "metadata": {},
   "outputs": [],
   "source": [
    "dem_path = str(Path(root_data_path) / \"Tests\" / \"DEM\" / \"srtm_1secarc_Cayenne.tif\")\n",
    "out_path = str(Path(root_data_path) / \"Tests\" / \"out_calib.tif\")"
   ]
  },
  {
   "cell_type": "code",
   "execution_count": null,
   "id": "e487f505-c23e-4a51-b824-fb64e958557a",
   "metadata": {},
   "outputs": [],
   "source": [
    "from src.data_processing.s1_otb_processing import run_s1_processing_otb"
   ]
  },
  {
   "cell_type": "code",
   "execution_count": null,
   "id": "79272463-e9d3-415e-80e3-4ae2cd6b414f",
   "metadata": {},
   "outputs": [],
   "source": [
    "Path(s1_path_test).stem"
   ]
  },
  {
   "cell_type": "code",
   "execution_count": 19,
   "id": "91b9e543-06ce-440e-b9f7-4de79844d05b",
   "metadata": {},
   "outputs": [],
   "source": [
    "def load_meta_products(parse_list:bool=True): \n",
    "    meta = pd.read_csv(cfg.ConfigS1.meta_product_path)\n",
    "    if parse_list:\n",
    "        meta[\"raster_path\"] = meta[\"raster_path\"].apply(lambda x: literal_eval(x))\n",
    "    return meta"
   ]
  },
  {
   "cell_type": "code",
   "execution_count": 20,
   "id": "caf8e4fc-8b1d-4ad6-860a-1576b610df3c",
   "metadata": {},
   "outputs": [],
   "source": [
    "res =  pd.read_csv(cfg.ConfigS1.meta_product_path)\n"
   ]
  },
  {
   "cell_type": "code",
   "execution_count": 21,
   "id": "8beee962-164f-4808-97ff-1734cf22e848",
   "metadata": {},
   "outputs": [
    {
     "data": {
      "text/plain": [
       "0    ['/home/rustt/Documents/Projects/S1_S2_classif...\n",
       "1    ['/home/rustt/Documents/Projects/S1_S2_classif...\n",
       "2    ['/home/rustt/Documents/Projects/S1_S2_classif...\n",
       "3    ['/home/rustt/Documents/Projects/S1_S2_classif...\n",
       "Name: raster_path, dtype: object"
      ]
     },
     "execution_count": 21,
     "metadata": {},
     "output_type": "execute_result"
    }
   ],
   "source": [
    "res.raster_path"
   ]
  },
  {
   "cell_type": "code",
   "execution_count": 22,
   "id": "72164360-1706-43ca-bda3-8ffec38de65f",
   "metadata": {},
   "outputs": [],
   "source": [
    "from ast import literal_eval \n",
    "\n",
    "res = load_meta_products()"
   ]
  },
  {
   "cell_type": "code",
   "execution_count": null,
   "id": "d75d72d4-11c9-4885-ba27-82865b6aa78e",
   "metadata": {},
   "outputs": [],
   "source": [
    "# batch calib + ortho \n",
    "for i, row in res.iterrows():\n",
    "    paths, prod_name = row[\"raster_path\"], row[\"prod_name\"]\n",
    "    out_dir = os.path.join(cfg.data_dir_processed, \"S1\")\n",
    "    if not os.path.exists(out_dir):\n",
    "        os.mkdir(out_dir)\n",
    "\n",
    "    for tif_path in paths:\n",
    "        out_file = os.path.join(out_dir, f\"calib_ortho_{Path(tif_path).stem}.tif\")\n",
    "        run_s1_processing_otb(tif_path, out_file)"
   ]
  },
  {
   "cell_type": "code",
   "execution_count": null,
   "id": "50051b25-8680-4721-8c83-10de193a16b9",
   "metadata": {},
   "outputs": [],
   "source": [
    "cfg.data_dir_processed"
   ]
  },
  {
   "cell_type": "code",
   "execution_count": null,
   "id": "539336c5-9808-4836-a797-2b88e33340bd",
   "metadata": {},
   "outputs": [],
   "source": [
    "import folium\n",
    "from shapely.geometry import box\n",
    "from shapely.geometry import Polygon\n",
    "from pyproj import Transformer"
   ]
  },
  {
   "cell_type": "code",
   "execution_count": null,
   "id": "a30a2a3e-f288-4cf8-9835-d8dd02c1f3a4",
   "metadata": {},
   "outputs": [],
   "source": [
    "m = folium.Map()\n",
    "clip = folium.GeoJson(Polygon(prod_geom), style_function= lambda x: {\"fillColor\":\"ff0000\", \n",
    "                                                                             'color': 'black',\n",
    "                                                                             'fillOpacity' : 0.7}).add_to(m)\n",
    "#area = folium.GeoJson(Polygon(bbox), style_function= lambda x: {\"color\":\"green\", \"weight\":3, \"fillOpacity\":0}).add_to(m)\n",
    "area = folium.GeoJson(Polygon(bbox), style_function= lambda x: {\"color\":\"green\", \"weight\":3, \"fillOpacity\":0}).add_to(m)\n",
    "\n",
    "\n",
    "m"
   ]
  },
  {
   "cell_type": "code",
   "execution_count": null,
   "id": "0eca7827-7b29-402a-ac25-53d939bc0602",
   "metadata": {},
   "outputs": [],
   "source": []
  },
  {
   "cell_type": "code",
   "execution_count": null,
   "id": "38c66e83-dc31-4f27-b40d-9984ddd7bbe0",
   "metadata": {},
   "outputs": [],
   "source": []
  },
  {
   "cell_type": "code",
   "execution_count": null,
   "id": "d8ebee6f-fba9-485b-9b35-7549b587aaeb",
   "metadata": {},
   "outputs": [],
   "source": []
  }
 ],
 "metadata": {
  "kernelspec": {
   "display_name": "Python 3 (ipykernel)",
   "language": "python",
   "name": "python3"
  },
  "language_info": {
   "codemirror_mode": {
    "name": "ipython",
    "version": 3
   },
   "file_extension": ".py",
   "mimetype": "text/x-python",
   "name": "python",
   "nbconvert_exporter": "python",
   "pygments_lexer": "ipython3",
   "version": "3.10.12"
  }
 },
 "nbformat": 4,
 "nbformat_minor": 5
}
